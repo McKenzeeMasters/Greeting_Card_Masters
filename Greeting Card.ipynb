{
 "cells": [
  {
   "cell_type": "markdown",
   "id": "4ef8759b",
   "metadata": {},
   "source": [
    "# Season Greetings Card"
   ]
  },
  {
   "cell_type": "code",
   "execution_count": 36,
   "id": "1ab79b0b",
   "metadata": {},
   "outputs": [
    {
     "name": "stdout",
     "output_type": "stream",
     "text": [
      "Requirement already satisfied: pillow in c:\\users\\mckenzee masters\\anaconda3\\lib\\site-packages (9.0.1)\n",
      "Note: you may need to restart the kernel to use updated packages.\n"
     ]
    }
   ],
   "source": [
    "pip install pillow"
   ]
  },
  {
   "cell_type": "code",
   "execution_count": 7,
   "id": "e60ce9a0",
   "metadata": {},
   "outputs": [],
   "source": [
    "import sys\n",
    "from PIL import Image\n",
    "\n",
    "import pygame\n",
    "import sys\n",
    "import time\n",
    "from pygame import mixer\n",
    "from tkinter import *\n",
    "pygame.init()\n",
    "\n",
    "#Music\n",
    "mixer.init()\n",
    "mixer.music.load(\"toe.mp3\")\n",
    "mixer.music.set_volume(0.7)\n",
    "\n",
    "mixer.music.play()\n",
    "\n",
    "#Surface\n",
    "Width=700\n",
    "Height=550\n",
    "surface=pygame.display.set_mode((Width, Height), 0,32)\n",
    "pygame.display.set_caption(\"Season Greetings!\")\n",
    "\n",
    "#Colors\n",
    "WHITE=(255,255,255)\n",
    "BLACK=(0,0,0)\n",
    "GRAY=(200,200,200)\n",
    "RED=(255,0,0)\n",
    "GREEN=(0,255,0)\n",
    "BLUE=(0,0,255)\n",
    "\n",
    "#Images\n",
    "us=pygame.transform.scale(pygame.image.load(\"image.jpg\"),(Width, Height))\n",
    "snow=pygame.transform.scale(pygame.image.load(\"snow.gif\"), (Width, Height))\n",
    "\n",
    "surface.blit(us, (0,0))\n",
    "surface.blit(snow, (0,0))\n",
    "\n",
    "#the parameters of font are the font file and the font size\n",
    "font=pygame.font.Font('freesansbold.ttf', 48)\n",
    "font2=pygame.font.Font('freesansbold.ttf', 28)\n",
    "\n",
    "#text surface\n",
    "text=font.render(\"Merry Christmas!\", True, RED, WHITE)\n",
    "text2=font2.render(\"From your favorite Environmental Scientists <3\", True, RED, WHITE)\n",
    "\n",
    "#create a rectangle object\n",
    "textRect=text.get_rect()\n",
    "x=700\n",
    "y=100\n",
    "textRect.center=(x//2,y//2)\n",
    "\n",
    "textRect2=text2.get_rect()\n",
    "x=700\n",
    "y=1050\n",
    "textRect2.center=(x//2,y//2)\n",
    "\n",
    "active=True\n",
    "while active:\n",
    "    surface.blit(text, textRect)\n",
    "    surface.blit(text2, textRect2)\n",
    "    \n",
    "    for event in pygame.event.get():\n",
    "        if event.type==pygame.QUIT:\n",
    "            active=False\n",
    "        pygame.display.update()\n",
    "pygame.quit()"
   ]
  },
  {
   "cell_type": "markdown",
   "id": "ce919460",
   "metadata": {},
   "source": [
    "### I was trying to get the gif to work but im not sure how"
   ]
  },
  {
   "cell_type": "code",
   "execution_count": null,
   "id": "181dd066",
   "metadata": {},
   "outputs": [],
   "source": []
  }
 ],
 "metadata": {
  "kernelspec": {
   "display_name": "Python 3 (ipykernel)",
   "language": "python",
   "name": "python3"
  },
  "language_info": {
   "codemirror_mode": {
    "name": "ipython",
    "version": 3
   },
   "file_extension": ".py",
   "mimetype": "text/x-python",
   "name": "python",
   "nbconvert_exporter": "python",
   "pygments_lexer": "ipython3",
   "version": "3.9.12"
  }
 },
 "nbformat": 4,
 "nbformat_minor": 5
}
